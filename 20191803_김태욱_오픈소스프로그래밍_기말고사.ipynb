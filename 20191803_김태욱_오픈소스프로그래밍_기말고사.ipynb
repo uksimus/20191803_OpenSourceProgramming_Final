{
 "cells": [
  {
   "cell_type": "code",
   "execution_count": 4,
   "id": "2648c806-501d-44e7-bb1a-abd130ba00f2",
   "metadata": {},
   "outputs": [
    {
     "data": {
      "text/plain": [
       "0"
      ]
     },
     "execution_count": 4,
     "metadata": {},
     "output_type": "execute_result"
    }
   ],
   "source": [
    "import os\n",
    "import time\n",
    "\n",
    "# 학번: 20191803 이름: 김태욱\n",
    "\n",
    "# Q.1 10점\n",
    "#\n",
    "# 문자열 my_string과 target이 매개변수로 주어질 때,\n",
    "# target이 문자열 my_string의 부분 문자열이라면 1을,\n",
    "# 아니라면 0을 return 하는 solution 함수를 작성하시오.\n",
    "#\n",
    "# 제한사항\n",
    "# 1 ≤ my_string 의 길이 ≤ 100\n",
    "# my_string 은 영소문자로만 이루어져 있습니다.\n",
    "# 1 ≤ target 의 길이 ≤ 100\n",
    "# target 은 영소문자로만 이루어져 있습니다.\n",
    "\n",
    "def question1(my_string, target):\n",
    "    string_length = len(my_string)\n",
    "    target_length = len(target)\n",
    "    \n",
    "    for i in range(string_length - target_length + 1):\n",
    "        if my_string[i:i+target_length] == target:\n",
    "            return 1 \n",
    "    \n",
    "    return 0\n",
    "\n",
    "question1('kimtaewook', 'taewook')\n",
    "question1('kimtaewook', 'hanbat')"
   ]
  },
  {
   "cell_type": "code",
   "execution_count": 5,
   "id": "2ccee7f9-780c-4804-a035-fc5ad549a3af",
   "metadata": {},
   "outputs": [
    {
     "data": {
      "text/plain": [
       "'python'"
      ]
     },
     "execution_count": 5,
     "metadata": {},
     "output_type": "execute_result"
    }
   ],
   "source": [
    "# Q.2 10점\n",
    "#\n",
    "# 모스부호 해독 프로그램 만들기\n",
    "# 문자열 letter 가 매개변수로 주어질 때,\n",
    "# letter 영어 소문자로 바꾼 문자열을 return 하는\n",
    "# solution 함수를 완성하시오.\n",
    "#\n",
    "# 제한사항\n",
    "# 1 ≤ letter 의 길이 ≤ 1,000\n",
    "# letter 의 모스부호는 공백으로 나누어져 있습니다.\n",
    "# letter 에 공백은 연속으로 두 개 이상 존재하지 않습니다.\n",
    "#\n",
    "# letter = 여러분의 좌우명 또는 인상 깊었던 말을 쓰시오.\n",
    "\n",
    "def question2(letter):\n",
    "    morse = { \n",
    "    '.-':'a','-...':'b','-.-.':'c','-..':'d','.':'e','..-.':'f',\n",
    "    '--.':'g','....':'h','..':'i','.---':'j','-.-':'k','.-..':'l',\n",
    "    '--':'m','-.':'n','---':'o','.--.':'p','--.-':'q','.-.':'r',\n",
    "    '...':'s','-':'t','..-':'u','...-':'v','.--':'w','-..-':'x',\n",
    "    '-.--':'y','--..':'z'}\n",
    "    \n",
    "    morse_words = letter.split(\" \")\n",
    "    \n",
    "    answer = ''\n",
    "    for word in morse_words:\n",
    "        if word in morse:\n",
    "            answer += morse[word]\n",
    "    \n",
    "    return answer\n",
    "\n",
    "question2('.--. -.-- - .... --- -.')"
   ]
  },
  {
   "cell_type": "code",
   "execution_count": 7,
   "id": "8ed920aa-de2d-4b2f-983d-c7853b138bf1",
   "metadata": {},
   "outputs": [
    {
     "data": {
      "text/plain": [
       "'PROGRAMMER-857 행성의 나이는 19살 입니다.'"
      ]
     },
     "execution_count": 7,
     "metadata": {},
     "output_type": "execute_result"
    }
   ],
   "source": [
    "# Q.3 10점\n",
    "#\n",
    "# 행성의 나이를 알파벳으로 표현할 때,\n",
    "# a는 0, b는 1, ..., j는 9\n",
    "# 예를 들어 cd는 23살, fb는 51살입니다.\n",
    "# age가 매개변수로 주어질 때\n",
    "# PROGRAMMER-857 행성의 나이를 return 하도록\n",
    "# solution 함수를 완성하시오.\n",
    "#\n",
    "# 제한사항\n",
    "# age는 자연수입니다.\n",
    "# age ≤ 1,000\n",
    "# PROGRAMMERS-857 행성은 알파벳 소문자만 사용합니다.\n",
    "\n",
    "def question3(age):\n",
    "    alpha_to_num = {'a': '0', 'b': '1', 'c': '2', 'd': '3', 'e': '4', 'f': '5', 'g': '6', 'h': '7', 'i': '8', 'j': '9'}\n",
    "    \n",
    "    age_str = str(age)  # 입력된 나이를 문자열로 변환\n",
    "    \n",
    "    answer = ''\n",
    "    for char in age_str:\n",
    "        if char.isalpha():  # 알파벳인 경우 딕셔너리에서 해당하는 숫자로 변환하여 answer에 추가\n",
    "            answer += alpha_to_num[char]\n",
    "    \n",
    "    return f'PROGRAMMER-857 행성의 나이는 {answer}살 입니다.'\n",
    "\n",
    "question3('bj')"
   ]
  },
  {
   "cell_type": "code",
   "execution_count": 35,
   "id": "ab54a66a-b696-4294-a8d9-888fd2d77910",
   "metadata": {},
   "outputs": [
    {
     "data": {
      "text/plain": [
       "24"
      ]
     },
     "execution_count": 35,
     "metadata": {},
     "output_type": "execute_result"
    }
   ],
   "source": [
    "# Q.4 10점\n",
    "#\n",
    "# x축과 y축으로 이루어진 2차원 직교 좌표계에 중심이 원점인\n",
    "# 서로 다른 크기의 원이 두 개 주어집니다.\n",
    "# 반지름을 나타내는 두 정수 r1, r2가 매개변수로 주어질 때,\n",
    "# 두 원 사이의 공간에 x좌표와 y좌표가 모두 정수인 점의 개수를\n",
    "# return하도록 solution 함수를 완성해주세요.\n",
    "# ※ 각 원 위의 점도 포함하여 셉니다.\n",
    "#\n",
    "# 제한사항\n",
    "# 1 ≤ r1 < r2 ≤ 1,000,000\n",
    "\n",
    "def solution(r1, r2):\n",
    "    # 두 원의 중심 사이의 거리\n",
    "    distance = ((0 - 0) ** 2 + (0 - 0) ** 2) ** 0.5\n",
    "\n",
    "    # 두 원이 겹치지 않는 경우\n",
    "    if distance > r1 + r2:\n",
    "        return 0\n",
    "\n",
    "    # 두 원이 외접하는 경우\n",
    "    if distance == r1 + r2:\n",
    "        return 1\n",
    "\n",
    "    # 두 원이 교차하는 경우\n",
    "    x_min = max(-r1, -r2)\n",
    "    x_max = min(r1, r2)\n",
    "\n",
    "    y_min = max(-r1, -r2)\n",
    "    y_max = min(r1, r2)\n",
    "\n",
    "    count = 0\n",
    "    for x in range(x_min, x_max + 1):\n",
    "        for y in range(y_min, y_max + 1):\n",
    "            if x ** 2 + y ** 2 >= r1 ** 2 and x ** 2 + y ** 2 <= r2 ** 2:\n",
    "                count += 1\n",
    "\n",
    "    return count\n",
    "\n",
    "solution(3,5)"
   ]
  },
  {
   "cell_type": "code",
   "execution_count": 37,
   "id": "6a2a9119-66aa-493c-96ee-027c86d7edc4",
   "metadata": {},
   "outputs": [
    {
     "data": {
      "text/plain": [
       "'83023217'"
      ]
     },
     "execution_count": 37,
     "metadata": {},
     "output_type": "execute_result"
    }
   ],
   "source": [
    "# Q.5 10점\n",
    "#\n",
    "# 0 또는 양의 정수가 주어졌을 때,\n",
    "# 정수를 이어 붙여 만들 수 있는 가장 큰 수를 알아내 주세요.\n",
    "#\n",
    "# 예를 들어, 주어진 정수가 [6, 10, 2]라면\n",
    "# [6102, 6210, 1062, 1026, 2610, 2106]를 만들 수 있고,\n",
    "# 이중 가장 큰 수는 6210입니다.\n",
    "#\n",
    "# 0 또는 양의 정수가 담긴 배열 numbers가 매개변수로 주어질 때,\n",
    "# 순서를 재배치하여 만들 수 있는 가장 큰 수를 문자열로 바꾸어\n",
    "# return 하도록 solution 함수를 작성해주세요.\n",
    "#\n",
    "# 제한사항\n",
    "# numbers의 길이는 1 이상 100,000 이하입니다.\n",
    "# numbers의 원소는 0 이상 1,000 이하입니다.\n",
    "# 정답이 너무 클 수 있으니 문자열로 바꾸어 return 합니다.\n",
    "#\n",
    "numbers = [8, 30, 17, 2, 23]\n",
    "\n",
    "def question5(numbers):\n",
    "    # 숫자를 문자열로 변환하여 정렬합니다.\n",
    "    numbers = list(map(str, numbers))\n",
    "    numbers.sort(key=lambda x: x*4, reverse=True)  # 1000 이하의 숫자이므로 최대 4자리까지 비교\n",
    "    \n",
    "    # 모든 값이 0인 경우를 처리하기 위해 join 후 반환합니다.\n",
    "    answer = ''.join(numbers)\n",
    "    \n",
    "    # answer가 '000...'인 경우 '0'으로 반환합니다.\n",
    "    return str(int(answer)) if answer[0] != '0' else '0'\n",
    "\n",
    "question5(numbers)"
   ]
  }
 ],
 "metadata": {
  "kernelspec": {
   "display_name": "Python 3 (ipykernel)",
   "language": "python",
   "name": "python3"
  },
  "language_info": {
   "codemirror_mode": {
    "name": "ipython",
    "version": 3
   },
   "file_extension": ".py",
   "mimetype": "text/x-python",
   "name": "python",
   "nbconvert_exporter": "python",
   "pygments_lexer": "ipython3",
   "version": "3.10.11"
  }
 },
 "nbformat": 4,
 "nbformat_minor": 5
}
